{
 "cells": [
  {
   "cell_type": "code",
   "execution_count": 0,
   "metadata": {
    "application/vnd.databricks.v1+cell": {
     "cellMetadata": {
      "byteLimit": 10485760,
      "rowLimit": 1000
     },
     "inputWidgets": {},
     "nuid": "4c1790f9-50fd-4146-aba2-44313cb4bff3",
     "showTitle": false,
     "tableResultSettingsMap": {},
     "title": ""
    }
   },
   "outputs": [],
   "source": [
    "select pickup_zip, count(1) as num_trips \n",
    "from trips\n",
    "group by all \n",
    "order by 2 desc limit top_n;\n",
    "\n",
    "-- Items:\n",
    "-- parameters\n",
    "-- group by all\n",
    "-- multiple queries\n",
    "-- keyboard shortcuts (cmd mode: H)\n",
    "-- format (cmd+shift+F)\n",
    "-- revert to saved query\n",
    "-- query detail and profile\n",
    "-- download results \n",
    "-- favorite\n",
    "-- schedule as workflow job"
   ]
  }
 ],
 "metadata": {
  "application/vnd.databricks.v1+notebook": {
   "computePreferences": null,
   "dashboards": [],
   "environmentMetadata": null,
   "language": "sql",
   "notebookMetadata": {
    "pythonIndentUnit": 2,
    "sqlQueryOptions": {
     "applyAutoLimit": true,
     "catalog": "samples",
     "schema": "nyctaxi"
    }
   },
   "notebookName": "Top n pickup zips.dbquery.ipynb",
   "widgets": {
    "top_n": {
     "currentValue": "5",
     "nuid": "b49209a1-eec2-4e01-a194-86dd3393ed79",
     "typedWidgetInfo": {
      "autoCreated": false,
      "defaultValue": "5",
      "label": "top_n",
      "name": "top_n",
      "options": {
       "widgetDisplayType": "Text",
       "validationRegex": null
      },
      "parameterDataType": "Integer"
     },
     "widgetInfo": {
      "widgetType": "text",
      "defaultValue": "5",
      "label": "top_n",
      "name": "top_n",
      "options": {
       "widgetType": "text",
       "autoCreated": false,
       "validationRegex": null
      }
     }
    }
   }
  },
  "language_info": {
   "name": "sql"
  }
 },
 "nbformat": 4,
 "nbformat_minor": 0
}
