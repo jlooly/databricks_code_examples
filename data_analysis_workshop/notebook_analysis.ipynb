{
 "cells": [
  {
   "cell_type": "markdown",
   "metadata": {
    "application/vnd.databricks.v1+cell": {
     "cellMetadata": {},
     "inputWidgets": {},
     "nuid": "523fdd0b-2520-449c-8f92-79626018daa2",
     "showTitle": false,
     "tableResultSettingsMap": {},
     "title": ""
    }
   },
   "source": [
    "https://docs.databricks.com/en/notebooks/index.html\n",
    "\n",
    "- set default language\n",
    "- sql warehouse vs all purpose\n",
    "- parameters: dbutils\n",
    "- share result across sql and python\n",
    "- visualize and add to dashboard\n",
    "- install lib\n",
    "- databricks assistant https://www.databricks.com/dataaisummit/session/maximizing-productivity-databricks-assistant-key-strategies-and-tips\n",
    "- schedule notebook for recurring analysis \n",
    "\n",
    "Delta\n",
    "- describe detail \n",
    "- transaction log\n",
    "- time travel"
   ]
  },
  {
   "cell_type": "markdown",
   "metadata": {
    "application/vnd.databricks.v1+cell": {
     "cellMetadata": {},
     "inputWidgets": {},
     "nuid": "6a29581d-3bfd-4a45-9ce9-e5cc77a17597",
     "showTitle": false,
     "tableResultSettingsMap": {},
     "title": ""
    }
   },
   "source": [
    "Parameters (dbutils)"
   ]
  },
  {
   "cell_type": "code",
   "execution_count": 0,
   "metadata": {
    "application/vnd.databricks.v1+cell": {
     "cellMetadata": {
      "byteLimit": 2048000,
      "rowLimit": 10000
     },
     "inputWidgets": {},
     "nuid": "19174a54-0b36-4581-bc67-a3603f076ac5",
     "showTitle": false,
     "tableResultSettingsMap": {},
     "title": ""
    }
   },
   "outputs": [],
   "source": [
    "dbutils.widgets.text('age', '30')"
   ]
  },
  {
   "cell_type": "code",
   "execution_count": 0,
   "metadata": {
    "application/vnd.databricks.v1+cell": {
     "cellMetadata": {
      "byteLimit": 2048000,
      "rowLimit": 10000
     },
     "inputWidgets": {},
     "nuid": "9fc648b9-da07-47a9-99f0-1a9635a92266",
     "showTitle": false,
     "tableResultSettingsMap": {},
     "title": ""
    }
   },
   "outputs": [],
   "source": [
    "age = dbutils.widgets.get('age')\n",
    "print(age)"
   ]
  },
  {
   "cell_type": "code",
   "execution_count": 0,
   "metadata": {
    "application/vnd.databricks.v1+cell": {
     "cellMetadata": {
      "byteLimit": 2048000,
      "implicitDf": true,
      "rowLimit": 10000
     },
     "inputWidgets": {},
     "nuid": "31dbf247-9611-4fd3-95ac-96b93550a0fb",
     "showTitle": false,
     "tableResultSettingsMap": {},
     "title": ""
    }
   },
   "outputs": [],
   "source": [
    "%sql\n",
    "select :age"
   ]
  },
  {
   "cell_type": "markdown",
   "metadata": {
    "application/vnd.databricks.v1+cell": {
     "cellMetadata": {},
     "inputWidgets": {},
     "nuid": "6b2440ee-18d6-4a1a-b606-05ce4a1fbebe",
     "showTitle": false,
     "tableResultSettingsMap": {},
     "title": ""
    }
   },
   "source": [
    "Share results"
   ]
  },
  {
   "cell_type": "code",
   "execution_count": 0,
   "metadata": {
    "application/vnd.databricks.v1+cell": {
     "cellMetadata": {
      "byteLimit": 2048000,
      "implicitDf": true,
      "rowLimit": 10000
     },
     "inputWidgets": {},
     "nuid": "660d6b24-77be-4fc1-a5c6-3aa3f5d99901",
     "showTitle": false,
     "tableResultSettingsMap": {},
     "title": ""
    }
   },
   "outputs": [],
   "source": [
    "%sql\n",
    "select\n",
    "  1 + 1"
   ]
  },
  {
   "cell_type": "code",
   "execution_count": 0,
   "metadata": {
    "application/vnd.databricks.v1+cell": {
     "cellMetadata": {
      "byteLimit": 2048000,
      "rowLimit": 10000
     },
     "inputWidgets": {},
     "nuid": "926ef44a-ff4d-4a91-88a7-c0343504bd3e",
     "showTitle": false,
     "tableResultSettingsMap": {},
     "title": ""
    }
   },
   "outputs": [],
   "source": [
    "new_dataframe_name = _sqldf \n",
    "display(new_dataframe_name)"
   ]
  },
  {
   "cell_type": "markdown",
   "metadata": {
    "application/vnd.databricks.v1+cell": {
     "cellMetadata": {},
     "inputWidgets": {},
     "nuid": "f3d3bcb8-e4ae-4103-b233-b6ae30bb42d9",
     "showTitle": false,
     "tableResultSettingsMap": {},
     "title": ""
    }
   },
   "source": [
    "## install lib\n",
    "* leverage built-in lib ([dbr](https://docs.databricks.com/en/release-notes/runtime/16.1.html#system-environment), serverless version 1 vs 2)\n",
    "* [notebook scope lib ](https://docs.databricks.com/en/libraries/notebooks-python-libraries.html)\n",
    "  * When you install a notebook-scoped library, *only the current notebook and any jobs associated with that notebook have access to that library*. Other notebooks attached to the same cluster are not affected.\n",
    "  * Notebook-scoped libraries do not persist across sessions. You must reinstall notebook-scoped libraries at the beginning of each session, or whenever the notebook is detached from a cluster.\n",
    "* [cluster-scoped libraries](https://docs.databricks.com/en/libraries/cluster-libraries.html) : To install libraries for all notebooks attached to a cluster (non-serverless)\n",
    "* [environments](https://docs.databricks.com/en/compute/serverless/dependencies.html#libraries) (serverless only) "
   ]
  },
  {
   "cell_type": "code",
   "execution_count": 0,
   "metadata": {
    "application/vnd.databricks.v1+cell": {
     "cellMetadata": {
      "byteLimit": 2048000,
      "rowLimit": 10000
     },
     "inputWidgets": {},
     "nuid": "e6d0795c-8f39-4a0c-ae97-835458bd77f8",
     "showTitle": false,
     "tableResultSettingsMap": {},
     "title": ""
    }
   },
   "outputs": [],
   "source": [
    "import simplejson"
   ]
  },
  {
   "cell_type": "code",
   "execution_count": 0,
   "metadata": {
    "application/vnd.databricks.v1+cell": {
     "cellMetadata": {
      "byteLimit": 2048000,
      "rowLimit": 10000
     },
     "inputWidgets": {},
     "nuid": "0ea16fed-7169-4307-a877-28a14de7365d",
     "showTitle": false,
     "tableResultSettingsMap": {},
     "title": ""
    }
   },
   "outputs": [],
   "source": [
    "%pip install mlflow\n",
    "# %pip install /path/to/my_package.whl\n",
    "# %pip install -r /Workspace/shared/prod_requirements.txt\n",
    "\n",
    "#%restart_python"
   ]
  },
  {
   "cell_type": "markdown",
   "metadata": {
    "application/vnd.databricks.v1+cell": {
     "cellMetadata": {},
     "inputWidgets": {},
     "nuid": "5abfec13-2745-409e-a33d-1844ba7843c3",
     "showTitle": false,
     "tableResultSettingsMap": {},
     "title": ""
    }
   },
   "source": [
    "Delta demo"
   ]
  },
  {
   "cell_type": "code",
   "execution_count": 0,
   "metadata": {
    "application/vnd.databricks.v1+cell": {
     "cellMetadata": {
      "byteLimit": 2048000,
      "implicitDf": true,
      "rowLimit": 10000
     },
     "inputWidgets": {},
     "nuid": "f2e23c43-c06d-4e5e-a0ad-6538cb20408d",
     "showTitle": false,
     "tableResultSettingsMap": {},
     "title": ""
    }
   },
   "outputs": [],
   "source": [
    "%sql\n",
    "use catalog joviloo;\n",
    "create schema if not exists delta_basics;\n",
    "use schema delta_basics;"
   ]
  },
  {
   "cell_type": "code",
   "execution_count": 0,
   "metadata": {
    "application/vnd.databricks.v1+cell": {
     "cellMetadata": {
      "byteLimit": 2048000,
      "implicitDf": true,
      "rowLimit": 10000
     },
     "inputWidgets": {},
     "nuid": "d18aaf6e-9a61-4c0b-8c76-c2da72e9c273",
     "showTitle": false,
     "tableResultSettingsMap": {},
     "title": ""
    }
   },
   "outputs": [],
   "source": [
    "%sql\n",
    "CREATE TABLE delta_table (\n",
    "  column1 INT,\n",
    "  column2 STRING\n",
    ");\n",
    "\n",
    "INSERT INTO delta_table (column1, column2) VALUES\n",
    "  (1, 'row1'),\n",
    "  (2, 'row2');"
   ]
  },
  {
   "cell_type": "code",
   "execution_count": 0,
   "metadata": {
    "application/vnd.databricks.v1+cell": {
     "cellMetadata": {
      "byteLimit": 2048000,
      "implicitDf": true,
      "rowLimit": 10000
     },
     "inputWidgets": {},
     "nuid": "b92a5217-7b40-4fdb-b255-38ed8dc52fcb",
     "showTitle": false,
     "tableResultSettingsMap": {},
     "title": ""
    }
   },
   "outputs": [],
   "source": [
    "%sql\n",
    "describe detail delta_table\n",
    "-- alternatively, look at uc directly \n",
    "-- format, s3 location, numFiles"
   ]
  },
  {
   "cell_type": "code",
   "execution_count": 0,
   "metadata": {
    "application/vnd.databricks.v1+cell": {
     "cellMetadata": {
      "byteLimit": 2048000,
      "implicitDf": true,
      "rowLimit": 10000
     },
     "inputWidgets": {},
     "nuid": "5b4c720a-d407-4a44-8b92-894d86779073",
     "showTitle": false,
     "tableResultSettingsMap": {},
     "title": ""
    }
   },
   "outputs": [],
   "source": [
    "%sql\n",
    "INSERT INTO delta_table (column1, column2) VALUES\n",
    "  (3, 'row3');\n",
    "\n",
    "UPDATE delta_table\n",
    "SET column2 = 'row2_new'\n",
    "WHERE column1 = 2;\n",
    "\n",
    "DELETE FROM delta_table where column1 = 1;"
   ]
  },
  {
   "cell_type": "code",
   "execution_count": 0,
   "metadata": {
    "application/vnd.databricks.v1+cell": {
     "cellMetadata": {
      "byteLimit": 2048000,
      "implicitDf": true,
      "rowLimit": 10000
     },
     "inputWidgets": {},
     "nuid": "cb67d168-d57d-49fd-8bfd-99a489cf646f",
     "showTitle": false,
     "tableResultSettingsMap": {},
     "title": ""
    }
   },
   "outputs": [],
   "source": [
    "%sql\n",
    "describe history delta_table;"
   ]
  },
  {
   "cell_type": "code",
   "execution_count": 0,
   "metadata": {
    "application/vnd.databricks.v1+cell": {
     "cellMetadata": {
      "byteLimit": 2048000,
      "implicitDf": true,
      "rowLimit": 10000
     },
     "inputWidgets": {},
     "nuid": "fb1b6ed1-dd18-49ac-a85d-7b74de3c9f3d",
     "showTitle": false,
     "tableResultSettingsMap": {},
     "title": ""
    }
   },
   "outputs": [],
   "source": [
    "%sql\n",
    "select * from delta_table"
   ]
  },
  {
   "cell_type": "code",
   "execution_count": 0,
   "metadata": {
    "application/vnd.databricks.v1+cell": {
     "cellMetadata": {
      "byteLimit": 2048000,
      "implicitDf": true,
      "rowLimit": 10000
     },
     "inputWidgets": {},
     "nuid": "f27b69e8-7784-4991-915b-f1fddcd4d816",
     "showTitle": false,
     "tableResultSettingsMap": {},
     "title": ""
    }
   },
   "outputs": [],
   "source": [
    "%sql\n",
    "select * from delta_table@v3 -- before delete operation on column1=1"
   ]
  },
  {
   "cell_type": "code",
   "execution_count": 0,
   "metadata": {
    "application/vnd.databricks.v1+cell": {
     "cellMetadata": {
      "byteLimit": 2048000,
      "implicitDf": true,
      "rowLimit": 10000
     },
     "inputWidgets": {},
     "nuid": "42fd6610-9070-45a6-a912-a8e0a1dd2892",
     "showTitle": false,
     "tableResultSettingsMap": {},
     "title": ""
    }
   },
   "outputs": [],
   "source": [
    "%sql\n",
    "RESTORE TABLE delta_table TO VERSION AS OF 3"
   ]
  },
  {
   "cell_type": "code",
   "execution_count": 0,
   "metadata": {
    "application/vnd.databricks.v1+cell": {
     "cellMetadata": {
      "byteLimit": 2048000,
      "implicitDf": true,
      "rowLimit": 10000
     },
     "inputWidgets": {},
     "nuid": "264d43b1-2930-4053-b8f2-193a4a9c91f0",
     "showTitle": false,
     "tableResultSettingsMap": {},
     "title": ""
    }
   },
   "outputs": [],
   "source": [
    "%sql\n",
    "select * from delta_table"
   ]
  },
  {
   "cell_type": "markdown",
   "metadata": {
    "application/vnd.databricks.v1+cell": {
     "cellMetadata": {},
     "inputWidgets": {},
     "nuid": "2cbdca6c-2922-47ff-bd0e-ac0787b88fcb",
     "showTitle": false,
     "tableResultSettingsMap": {},
     "title": ""
    }
   },
   "source": [
    "udf\n",
    "* pyspark udf (need to register using spark.udf.register, hence cannot be used with dbsql serverless)\n",
    "* UC udf (can be used with dbsql serverless + all purpose serverless)"
   ]
  },
  {
   "cell_type": "code",
   "execution_count": 0,
   "metadata": {
    "application/vnd.databricks.v1+cell": {
     "cellMetadata": {
      "byteLimit": 2048000,
      "rowLimit": 10000
     },
     "inputWidgets": {},
     "nuid": "329e9380-e994-4817-abc7-c303e90c47d8",
     "showTitle": false,
     "tableResultSettingsMap": {},
     "title": ""
    }
   },
   "outputs": [],
   "source": [
    "# can defined elsewhere and imported as function, then perform registration\n",
    "def squared(s):\n",
    "  return s * s\n",
    "spark.udf.register(\"squaredWithPython\", squared)"
   ]
  },
  {
   "cell_type": "code",
   "execution_count": 0,
   "metadata": {
    "application/vnd.databricks.v1+cell": {
     "cellMetadata": {
      "byteLimit": 2048000,
      "implicitDf": true,
      "rowLimit": 10000
     },
     "inputWidgets": {},
     "nuid": "72fd53a8-b76e-434b-943a-d2214e1ce777",
     "showTitle": false,
     "tableResultSettingsMap": {},
     "title": ""
    }
   },
   "outputs": [],
   "source": [
    "%sql\n",
    "select squaredWithPython(3)"
   ]
  },
  {
   "cell_type": "markdown",
   "metadata": {
    "application/vnd.databricks.v1+cell": {
     "cellMetadata": {},
     "inputWidgets": {},
     "nuid": "8283517e-e3f7-463f-9000-03737ba7ba7d",
     "showTitle": false,
     "tableResultSettingsMap": {},
     "title": ""
    }
   },
   "source": [
    "UC UDF\n",
    "\n",
    "For UDFs that need to be accessible to all users, Databricks recommends creating a dedicated catalog and schema with appropriate access controls.\n",
    "\n",
    "For team-specific UDFs, use a dedicated schema within the team’s catalog for storage and management.\n",
    "\n",
    "Databricks recommends you include the following information in the UDF’s docstring:\n",
    "\n",
    "The current version number\n",
    "\n",
    "A changelog to track modifications across versions\n",
    "\n",
    "The UDF’s purpose, parameters, and return value\n",
    "\n",
    "An example of how to use the UDF\n",
    "\n",
    "Here is an example of a UDF following best practices:"
   ]
  },
  {
   "cell_type": "code",
   "execution_count": 0,
   "metadata": {
    "application/vnd.databricks.v1+cell": {
     "cellMetadata": {
      "byteLimit": 2048000,
      "implicitDf": true,
      "rowLimit": 10000
     },
     "inputWidgets": {},
     "nuid": "9db8a230-9274-49d3-a16d-b5123b121585",
     "showTitle": false,
     "tableResultSettingsMap": {},
     "title": ""
    }
   },
   "outputs": [],
   "source": [
    "%sql\n",
    "CREATE OR REPLACE FUNCTION joviloo.default.calculate_bmi(weight_kg DOUBLE, height_m DOUBLE)\n",
    "RETURNS DOUBLE\n",
    "COMMENT \"Calculates Body Mass Index (BMI) from weight and height.\"\n",
    "LANGUAGE PYTHON\n",
    "AS $$\n",
    "\"\"\"\n",
    "Parameters:\n",
    "calculate_bmi (version 1.2):\n",
    "- weight_kg (float): Weight of the individual in kilograms.\n",
    "- height_m (float): Height of the individual in meters.\n",
    "\n",
    "\n",
    "Returns:\n",
    "- float: The calculated BMI.\n",
    "\n",
    "\n",
    "Example Usage:\n",
    "\n",
    "SELECT calculate_bmi(weight, height) AS bmi FROM person_data;\n",
    "\n",
    "\n",
    "Change Log:\n",
    "- 1.0: Initial version.\n",
    "- 1.1: Improved error handling for zero or negative height values.\n",
    "- 1.2: Optimized calculation for performance.\n",
    "\n",
    "\n",
    " Note: BMI is calculated as weight in kilograms divided by the square of height in meters.\n",
    "\"\"\"\n",
    "if height_m <= 0:\n",
    "  return None  # Avoid division by zero and ensure height is positive\n",
    "return weight_kg / (height_m ** 2)\n",
    "$$;\n"
   ]
  },
  {
   "cell_type": "code",
   "execution_count": 0,
   "metadata": {
    "application/vnd.databricks.v1+cell": {
     "cellMetadata": {
      "byteLimit": 2048000,
      "implicitDf": true,
      "rowLimit": 10000
     },
     "inputWidgets": {},
     "nuid": "6fa33620-59db-4386-9c36-4a635aa6418d",
     "showTitle": false,
     "tableResultSettingsMap": {},
     "title": ""
    }
   },
   "outputs": [],
   "source": [
    "%sql\n",
    "select joviloo.default.calculate_bmi(80,1.80)"
   ]
  },
  {
   "cell_type": "markdown",
   "metadata": {
    "application/vnd.databricks.v1+cell": {
     "cellMetadata": {},
     "inputWidgets": {},
     "nuid": "334fe063-ae1b-4f56-b84a-fbe15f2147d7",
     "showTitle": false,
     "tableResultSettingsMap": {},
     "title": ""
    }
   },
   "source": [
    "databricks assistant"
   ]
  }
 ],
 "metadata": {
  "application/vnd.databricks.v1+notebook": {
   "computePreferences": {
    "hardware": {
     "accelerator": null,
     "gpuPoolId": null,
     "memory": null
    }
   },
   "dashboards": [],
   "environmentMetadata": {
    "base_environment": "/Workspace/Users/jovi.loo@databricks.com/data_analysis_workshop/notebook_base_env.yml",
    "client": "2"
   },
   "language": "python",
   "notebookMetadata": {
    "mostRecentlyExecutedCommandWithImplicitDF": {
     "commandId": 1177265714301635,
     "dataframes": [
      "_sqldf"
     ]
    },
    "pythonIndentUnit": 2
   },
   "notebookName": "notebook_analysis",
   "widgets": {
    "age": {
     "currentValue": "30",
     "nuid": "4456758e-accf-4662-bf16-0a8600fe02b0",
     "typedWidgetInfo": {
      "autoCreated": false,
      "defaultValue": "30",
      "label": null,
      "name": "age",
      "options": {
       "widgetDisplayType": "Text",
       "validationRegex": null
      },
      "parameterDataType": "String"
     },
     "widgetInfo": {
      "widgetType": "text",
      "defaultValue": "30",
      "label": null,
      "name": "age",
      "options": {
       "widgetType": "text",
       "autoCreated": null,
       "validationRegex": null
      }
     }
    }
   }
  },
  "language_info": {
   "name": "python"
  }
 },
 "nbformat": 4,
 "nbformat_minor": 0
}
